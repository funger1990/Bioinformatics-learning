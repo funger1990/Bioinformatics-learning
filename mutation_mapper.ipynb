{
 "cells": [
  {
   "cell_type": "markdown",
   "metadata": {},
   "source": [
    "# python-version mutation mapper based on Mingyu Yang's Perl script"
   ]
  },
  {
   "cell_type": "code",
   "execution_count": 78,
   "metadata": {
    "collapsed": false
   },
   "outputs": [],
   "source": [
    "from __future__ import division\n",
    "\n",
    "import svgwrite\n",
    "import pandas as pd\n",
    "from IPython.display import SVG, display"
   ]
  },
  {
   "cell_type": "code",
   "execution_count": 79,
   "metadata": {
    "collapsed": false
   },
   "outputs": [
    {
     "data": {
      "image/svg+xml": [
       "<svg baseProfile=\"full\" height=\"600\" version=\"1.1\" width=\"1250\" xmlns=\"http://www.w3.org/2000/svg\" xmlns:ev=\"http://www.w3.org/2001/xml-events\" xmlns:xlink=\"http://www.w3.org/1999/xlink\"><defs/><rect fill=\"none\" height=\"20\" stroke=\"black\" stroke-width=\"2\" width=\"500\" x=\"160\" y=\"250\"/><text style=\"font-size:18\" x=\"160\" y=\"290\">1</text><text style=\"font-size:18\" x=\"660\" y=\"290\">911</text><text style=\"font-size:20\" x=\"60\" y=\"270\">ACTN4</text><rect fill=\"#8dd3c7\" fill-opacity=\"1\" height=\"20\" rx=\"5\" ry=\"5\" stroke=\"black\" stroke-width=\"1\" width=\"147.639956092\" x=\"160.54884742\" y=\"250\"/><rect fill=\"#8dd3c7\" fill-opacity=\"1\" height=\"10\" rx=\"1\" ry=\"1\" stroke=\"black\" stroke-width=\"1\" width=\"10\" x=\"260\" y=\"300\"/><text style=\"font-size:15\" x=\"280\" y=\"310\">Actin-binding</text><rect fill=\"#ffffb3\" fill-opacity=\"1\" height=\"20\" rx=\"5\" ry=\"5\" stroke=\"black\" stroke-width=\"1\" width=\"57.6289791438\" x=\"187.442371021\" y=\"250\"/><rect fill=\"#ffffb3\" fill-opacity=\"1\" height=\"10\" rx=\"1\" ry=\"1\" stroke=\"black\" stroke-width=\"1\" width=\"10\" x=\"260\" y=\"320\"/><text style=\"font-size:15\" x=\"280\" y=\"330\">CH</text><rect fill=\"#ffffb3\" fill-opacity=\"1\" height=\"20\" rx=\"5\" ry=\"5\" stroke=\"black\" stroke-width=\"1\" width=\"58.7266739846\" x=\"249.462129528\" y=\"250\"/><rect fill=\"#bebada\" fill-opacity=\"1\" height=\"20\" rx=\"5\" ry=\"5\" stroke=\"black\" stroke-width=\"1\" width=\"19.758507135\" x=\"579.868276619\" y=\"250\"/><rect fill=\"#bebada\" fill-opacity=\"1\" height=\"10\" rx=\"1\" ry=\"1\" stroke=\"black\" stroke-width=\"1\" width=\"10\" x=\"260\" y=\"340\"/><text style=\"font-size:15\" x=\"280\" y=\"350\">EF-hand</text><rect fill=\"#bebada\" fill-opacity=\"1\" height=\"20\" rx=\"5\" ry=\"5\" stroke=\"black\" stroke-width=\"1\" width=\"19.758507135\" x=\"602.371020856\" y=\"250\"/><circle cx=\"176.465422613\" cy=\"242\" fill=\"#e41a1c\" r=\"4\" stroke=\"black\"/><circle cx=\"379.538968167\" cy=\"242\" fill=\"#e41a1c\" r=\"4\" stroke=\"black\"/><circle cx=\"179.209659715\" cy=\"242\" fill=\"#377eb8\" r=\"4\" stroke=\"black\"/><circle cx=\"379.538968167\" cy=\"242\" fill=\"#4daf4a\" r=\"4\" stroke=\"black\"/><circle cx=\"460\" cy=\"305.0\" fill=\"#e41a1c\" r=\"4\" stroke=\"black\"/><text style=\"font-size:15\" x=\"480\" y=\"310.0\">sample_1</text><circle cx=\"460\" cy=\"325.0\" fill=\"#377eb8\" r=\"4\" stroke=\"black\"/><text style=\"font-size:15\" x=\"480\" y=\"330.0\">sample_2</text><circle cx=\"460\" cy=\"345.0\" fill=\"#4daf4a\" r=\"4\" stroke=\"black\"/><text style=\"font-size:15\" x=\"480\" y=\"350.0\">sample_3</text><polyline fill=\"none\" points=\"176.465422613,230 176.465422613,190 176.465422613,170 176.465422613,150\" stroke=\"black\"/><text style=\"font-size:14\" transform=\"rotate(315,176.465422613,150)\" x=\"176.465422613\" y=\"150\">G30Y</text><polyline fill=\"none\" points=\"179.209659715,230 179.209659715,190 190.186608123,170 190.186608123,150\" stroke=\"black\"/><text style=\"font-size:14\" transform=\"rotate(315,190.186608123,150)\" x=\"190.186608123\" y=\"150\">N35L</text><polyline fill=\"none\" points=\"379.538968167,230 379.538968167,190 379.538968167,170 379.538968167,150\" stroke=\"black\"/><text style=\"font-size:14\" transform=\"rotate(315,379.538968167,150)\" x=\"379.538968167\" y=\"150\">A400E,A400G</text></svg>"
      ],
      "text/plain": [
       "<IPython.core.display.SVG object>"
      ]
     },
     "metadata": {},
     "output_type": "display_data"
    }
   ],
   "source": [
    "# show an example\n",
    "display(SVG('example.svg'))"
   ]
  },
  {
   "cell_type": "markdown",
   "metadata": {},
   "source": [
    "### load mutation file"
   ]
  },
  {
   "cell_type": "code",
   "execution_count": 80,
   "metadata": {
    "collapsed": false
   },
   "outputs": [
    {
     "data": {
      "text/html": [
       "<div>\n",
       "<table border=\"1\" class=\"dataframe\">\n",
       "  <thead>\n",
       "    <tr style=\"text-align: right;\">\n",
       "      <th></th>\n",
       "      <th>sample</th>\n",
       "      <th>gene</th>\n",
       "      <th>nm</th>\n",
       "      <th>aachange</th>\n",
       "    </tr>\n",
       "  </thead>\n",
       "  <tbody>\n",
       "    <tr>\n",
       "      <th>0</th>\n",
       "      <td>sample_1</td>\n",
       "      <td>ACTN4</td>\n",
       "      <td>NM_004924</td>\n",
       "      <td>G30Y</td>\n",
       "    </tr>\n",
       "    <tr>\n",
       "      <th>1</th>\n",
       "      <td>sample_1</td>\n",
       "      <td>ACTN4</td>\n",
       "      <td>NM_004924</td>\n",
       "      <td>A400E</td>\n",
       "    </tr>\n",
       "    <tr>\n",
       "      <th>2</th>\n",
       "      <td>sample_2</td>\n",
       "      <td>ACTN4</td>\n",
       "      <td>NM_004924</td>\n",
       "      <td>N35L</td>\n",
       "    </tr>\n",
       "    <tr>\n",
       "      <th>3</th>\n",
       "      <td>sample_3</td>\n",
       "      <td>ACTN4</td>\n",
       "      <td>NM_004924</td>\n",
       "      <td>A400G</td>\n",
       "    </tr>\n",
       "  </tbody>\n",
       "</table>\n",
       "</div>"
      ],
      "text/plain": [
       "     sample   gene         nm aachange\n",
       "0  sample_1  ACTN4  NM_004924     G30Y\n",
       "1  sample_1  ACTN4  NM_004924    A400E\n",
       "2  sample_2  ACTN4  NM_004924     N35L\n",
       "3  sample_3  ACTN4  NM_004924    A400G"
      ]
     },
     "execution_count": 80,
     "metadata": {},
     "output_type": "execute_result"
    }
   ],
   "source": [
    "df_mutation = pd.read_csv('mutation.tsv', sep='\\t')\n",
    "\n",
    "df_mutation"
   ]
  },
  {
   "cell_type": "markdown",
   "metadata": {},
   "source": [
    "### load domain file"
   ]
  },
  {
   "cell_type": "code",
   "execution_count": 81,
   "metadata": {
    "collapsed": false
   },
   "outputs": [
    {
     "data": {
      "text/html": [
       "<div>\n",
       "<table border=\"1\" class=\"dataframe\">\n",
       "  <thead>\n",
       "    <tr style=\"text-align: right;\">\n",
       "      <th></th>\n",
       "      <th>nm</th>\n",
       "      <th>np</th>\n",
       "      <th>uniprot</th>\n",
       "      <th>gene</th>\n",
       "      <th>len</th>\n",
       "      <th>beg</th>\n",
       "      <th>end</th>\n",
       "      <th>domain</th>\n",
       "    </tr>\n",
       "    <tr>\n",
       "      <th>nm</th>\n",
       "      <th></th>\n",
       "      <th></th>\n",
       "      <th></th>\n",
       "      <th></th>\n",
       "      <th></th>\n",
       "      <th></th>\n",
       "      <th></th>\n",
       "      <th></th>\n",
       "    </tr>\n",
       "  </thead>\n",
       "  <tbody>\n",
       "    <tr>\n",
       "      <th>NM_001144924</th>\n",
       "      <td>NM_001144924</td>\n",
       "      <td>NP_001138396</td>\n",
       "      <td>Q96IC2</td>\n",
       "      <td>NaN</td>\n",
       "      <td>774</td>\n",
       "      <td>228;505;600</td>\n",
       "      <td>376;579;679</td>\n",
       "      <td>Exonuclease;RRM;RRM</td>\n",
       "    </tr>\n",
       "    <tr>\n",
       "      <th>NM_001199053</th>\n",
       "      <td>NM_001199053</td>\n",
       "      <td>NP_001185982</td>\n",
       "      <td>Q96IC2</td>\n",
       "      <td>NaN</td>\n",
       "      <td>774</td>\n",
       "      <td>228;505;600</td>\n",
       "      <td>376;579;679</td>\n",
       "      <td>Exonuclease;RRM;RRM</td>\n",
       "    </tr>\n",
       "    <tr>\n",
       "      <th>NM_030941</th>\n",
       "      <td>NM_030941</td>\n",
       "      <td>NP_112203</td>\n",
       "      <td>Q96IC2</td>\n",
       "      <td>NaN</td>\n",
       "      <td>774</td>\n",
       "      <td>228;505;600</td>\n",
       "      <td>376;579;679</td>\n",
       "      <td>Exonuclease;RRM;RRM</td>\n",
       "    </tr>\n",
       "    <tr>\n",
       "      <th>NM_130786</th>\n",
       "      <td>NM_130786</td>\n",
       "      <td>NP_570602</td>\n",
       "      <td>P04217</td>\n",
       "      <td>A1BG</td>\n",
       "      <td>495</td>\n",
       "      <td>22;114;207;300;398</td>\n",
       "      <td>113;206;299;397;495</td>\n",
       "      <td>Ig-like V-type;Ig-like V-type;Ig-like V-type;I...</td>\n",
       "    </tr>\n",
       "    <tr>\n",
       "      <th>NM_001198818</th>\n",
       "      <td>NM_001198818</td>\n",
       "      <td>NP_001185747</td>\n",
       "      <td>Q9NQ94</td>\n",
       "      <td>A1CF</td>\n",
       "      <td>594</td>\n",
       "      <td>56;136;231</td>\n",
       "      <td>134;218;303</td>\n",
       "      <td>RRM;RRM;RRM</td>\n",
       "    </tr>\n",
       "  </tbody>\n",
       "</table>\n",
       "</div>"
      ],
      "text/plain": [
       "                        nm            np uniprot  gene  len  \\\n",
       "nm                                                            \n",
       "NM_001144924  NM_001144924  NP_001138396  Q96IC2   NaN  774   \n",
       "NM_001199053  NM_001199053  NP_001185982  Q96IC2   NaN  774   \n",
       "NM_030941        NM_030941     NP_112203  Q96IC2   NaN  774   \n",
       "NM_130786        NM_130786     NP_570602  P04217  A1BG  495   \n",
       "NM_001198818  NM_001198818  NP_001185747  Q9NQ94  A1CF  594   \n",
       "\n",
       "                             beg                  end  \\\n",
       "nm                                                      \n",
       "NM_001144924         228;505;600          376;579;679   \n",
       "NM_001199053         228;505;600          376;579;679   \n",
       "NM_030941            228;505;600          376;579;679   \n",
       "NM_130786     22;114;207;300;398  113;206;299;397;495   \n",
       "NM_001198818          56;136;231          134;218;303   \n",
       "\n",
       "                                                         domain  \n",
       "nm                                                               \n",
       "NM_001144924                                Exonuclease;RRM;RRM  \n",
       "NM_001199053                                Exonuclease;RRM;RRM  \n",
       "NM_030941                                   Exonuclease;RRM;RRM  \n",
       "NM_130786     Ig-like V-type;Ig-like V-type;Ig-like V-type;I...  \n",
       "NM_001198818                                        RRM;RRM;RRM  "
      ]
     },
     "execution_count": 81,
     "metadata": {},
     "output_type": "execute_result"
    }
   ],
   "source": [
    "df_domain = pd.read_csv('G:/data/uniprot/uniprot_fan.tsv', sep='\\t')\n",
    "df_domain.index = df_domain['nm']\n",
    "\n",
    "df_domain.head()"
   ]
  },
  {
   "cell_type": "markdown",
   "metadata": {},
   "source": [
    "### extract domain information of the given gene"
   ]
  },
  {
   "cell_type": "code",
   "execution_count": 82,
   "metadata": {
    "collapsed": false
   },
   "outputs": [
    {
     "data": {
      "text/html": [
       "<div>\n",
       "<table border=\"1\" class=\"dataframe\">\n",
       "  <thead>\n",
       "    <tr style=\"text-align: right;\">\n",
       "      <th></th>\n",
       "      <th>nm</th>\n",
       "      <th>np</th>\n",
       "      <th>uniprot</th>\n",
       "      <th>gene</th>\n",
       "      <th>len</th>\n",
       "      <th>beg</th>\n",
       "      <th>end</th>\n",
       "      <th>domain</th>\n",
       "    </tr>\n",
       "    <tr>\n",
       "      <th>nm</th>\n",
       "      <th></th>\n",
       "      <th></th>\n",
       "      <th></th>\n",
       "      <th></th>\n",
       "      <th></th>\n",
       "      <th></th>\n",
       "      <th></th>\n",
       "      <th></th>\n",
       "    </tr>\n",
       "  </thead>\n",
       "  <tbody>\n",
       "    <tr>\n",
       "      <th>NM_004924</th>\n",
       "      <td>NM_004924</td>\n",
       "      <td>NP_004915</td>\n",
       "      <td>O43707</td>\n",
       "      <td>ACTN4</td>\n",
       "      <td>911</td>\n",
       "      <td>1;50;163;765;806</td>\n",
       "      <td>269;154;269;800;841</td>\n",
       "      <td>Actin-binding;CH;CH;EF-hand;EF-hand</td>\n",
       "    </tr>\n",
       "  </tbody>\n",
       "</table>\n",
       "</div>"
      ],
      "text/plain": [
       "                  nm         np uniprot   gene  len               beg  \\\n",
       "nm                                                                      \n",
       "NM_004924  NM_004924  NP_004915  O43707  ACTN4  911  1;50;163;765;806   \n",
       "\n",
       "                           end                               domain  \n",
       "nm                                                                   \n",
       "NM_004924  269;154;269;800;841  Actin-binding;CH;CH;EF-hand;EF-hand  "
      ]
     },
     "execution_count": 82,
     "metadata": {},
     "output_type": "execute_result"
    }
   ],
   "source": [
    "nm = df_mutation['nm'].tolist()[0]\n",
    "gene = df_mutation['gene'].tolist()[0]\n",
    "\n",
    "prolen = df_domain.get_value(nm, 'len')\n",
    "\n",
    "beg_list = df_domain.get_value(nm, 'beg')\n",
    "beg_list = map(int, beg_list.split(';'))\n",
    "\n",
    "end_list = df_domain.get_value(nm, 'end')\n",
    "end_list = map(int, end_list.split(';'))\n",
    "\n",
    "domain_list = df_domain.get_value(nm, 'domain').split(';')\n",
    "\n",
    "# show\n",
    "df_domain[df_domain['nm'] == nm]"
   ]
  },
  {
   "cell_type": "markdown",
   "metadata": {},
   "source": [
    "# SVG"
   ]
  },
  {
   "cell_type": "markdown",
   "metadata": {},
   "source": [
    "### parameter"
   ]
  },
  {
   "cell_type": "code",
   "execution_count": 83,
   "metadata": {
    "collapsed": true
   },
   "outputs": [],
   "source": [
    "pwidth = 1250\n",
    "pheight = 600\n",
    "x0 = 160\n",
    "y0 = 250\n",
    "length = 500\n",
    "# minimum space between mutation texts\n",
    "min_distance = 25\n",
    "\n",
    "# color for domain\n",
    "color_list = ['#8dd3c7', \n",
    "              '#ffffb3',\n",
    "              '#bebada',\n",
    "              '#fb8072',\n",
    "              '#80b1d3',\n",
    "              '#fdb462',\n",
    "              '#b3de69',\n",
    "              '#fccde5',\n",
    "              '#d9d9d9']\n",
    "\n",
    "# color for sample\n",
    "color_list_2 = ['#e41a1c',\n",
    "                '#377eb8',\n",
    "                '#4daf4a']"
   ]
  },
  {
   "cell_type": "markdown",
   "metadata": {},
   "source": [
    "### start svg"
   ]
  },
  {
   "cell_type": "code",
   "execution_count": 84,
   "metadata": {
    "collapsed": true
   },
   "outputs": [],
   "source": [
    "dwg = svgwrite.Drawing(filename='test.svg', debug=True, size=(pwidth, pheight))"
   ]
  },
  {
   "cell_type": "markdown",
   "metadata": {},
   "source": [
    "### protein rectangle, coordinate and gene symbol"
   ]
  },
  {
   "cell_type": "code",
   "execution_count": 85,
   "metadata": {
    "collapsed": false
   },
   "outputs": [
    {
     "data": {
      "image/svg+xml": [
       "<svg baseProfile=\"full\" height=\"600\" version=\"1.1\" width=\"1250\" xmlns=\"http://www.w3.org/2000/svg\" xmlns:ev=\"http://www.w3.org/2001/xml-events\" xmlns:xlink=\"http://www.w3.org/1999/xlink\"><defs/><rect fill=\"none\" height=\"20\" stroke=\"black\" stroke-width=\"2\" width=\"500\" x=\"160\" y=\"250\"/><text style=\"font-size:18\" x=\"160\" y=\"290\">1</text><text style=\"font-size:18\" x=\"660\" y=\"290\">911</text><text style=\"font-size:20\" x=\"60\" y=\"270\">ACTN4</text></svg>"
      ],
      "text/plain": [
       "<IPython.core.display.SVG object>"
      ]
     },
     "metadata": {},
     "output_type": "display_data"
    }
   ],
   "source": [
    "# rectangle\n",
    "dwg.add(dwg.rect(insert=(x0, y0),\n",
    "                 size=(length, 20),\n",
    "                 fill='none',\n",
    "                 stroke='black',\n",
    "                 stroke_width=2))\n",
    "\n",
    "# coordinate\n",
    "dwg.add(dwg.text('1',\n",
    "                 insert=(x0, y0 + 40),\n",
    "                 style=\"font-size:18\"))\n",
    "\n",
    "dwg.add(dwg.text(str(prolen),\n",
    "                 insert=(x0 + length, y0 + 40),\n",
    "                 style=\"font-size:18\"))\n",
    "\n",
    "# gene label\n",
    "dwg.add(dwg.text(gene,\n",
    "                 insert=(x0 - 100, y0 + 20),\n",
    "                 style=\"font-size:20\"))\n",
    "\n",
    "dwg.save()\n",
    "display(SVG('test.svg'))"
   ]
  },
  {
   "cell_type": "markdown",
   "metadata": {},
   "source": [
    "### domain rectangle and legend"
   ]
  },
  {
   "cell_type": "code",
   "execution_count": 86,
   "metadata": {
    "collapsed": false
   },
   "outputs": [
    {
     "data": {
      "image/svg+xml": [
       "<svg baseProfile=\"full\" height=\"600\" version=\"1.1\" width=\"1250\" xmlns=\"http://www.w3.org/2000/svg\" xmlns:ev=\"http://www.w3.org/2001/xml-events\" xmlns:xlink=\"http://www.w3.org/1999/xlink\"><defs/><rect fill=\"none\" height=\"20\" stroke=\"black\" stroke-width=\"2\" width=\"500\" x=\"160\" y=\"250\"/><text style=\"font-size:18\" x=\"160\" y=\"290\">1</text><text style=\"font-size:18\" x=\"660\" y=\"290\">911</text><text style=\"font-size:20\" x=\"60\" y=\"270\">ACTN4</text><rect fill=\"#8dd3c7\" fill-opacity=\"1\" height=\"20\" rx=\"5\" ry=\"5\" stroke=\"black\" stroke-width=\"1\" width=\"147.639956092\" x=\"160.54884742\" y=\"250\"/><rect fill=\"#8dd3c7\" fill-opacity=\"1\" height=\"10\" rx=\"1\" ry=\"1\" stroke=\"black\" stroke-width=\"1\" width=\"10\" x=\"260\" y=\"300\"/><text style=\"font-size:15\" x=\"280\" y=\"310\">Actin-binding</text><rect fill=\"#ffffb3\" fill-opacity=\"1\" height=\"20\" rx=\"5\" ry=\"5\" stroke=\"black\" stroke-width=\"1\" width=\"57.6289791438\" x=\"187.442371021\" y=\"250\"/><rect fill=\"#ffffb3\" fill-opacity=\"1\" height=\"10\" rx=\"1\" ry=\"1\" stroke=\"black\" stroke-width=\"1\" width=\"10\" x=\"260\" y=\"320\"/><text style=\"font-size:15\" x=\"280\" y=\"330\">CH</text><rect fill=\"#ffffb3\" fill-opacity=\"1\" height=\"20\" rx=\"5\" ry=\"5\" stroke=\"black\" stroke-width=\"1\" width=\"58.7266739846\" x=\"249.462129528\" y=\"250\"/><rect fill=\"#bebada\" fill-opacity=\"1\" height=\"20\" rx=\"5\" ry=\"5\" stroke=\"black\" stroke-width=\"1\" width=\"19.758507135\" x=\"579.868276619\" y=\"250\"/><rect fill=\"#bebada\" fill-opacity=\"1\" height=\"10\" rx=\"1\" ry=\"1\" stroke=\"black\" stroke-width=\"1\" width=\"10\" x=\"260\" y=\"340\"/><text style=\"font-size:15\" x=\"280\" y=\"350\">EF-hand</text><rect fill=\"#bebada\" fill-opacity=\"1\" height=\"20\" rx=\"5\" ry=\"5\" stroke=\"black\" stroke-width=\"1\" width=\"19.758507135\" x=\"602.371020856\" y=\"250\"/></svg>"
      ],
      "text/plain": [
       "<IPython.core.display.SVG object>"
      ]
     },
     "metadata": {},
     "output_type": "display_data"
    }
   ],
   "source": [
    "# use same color for the same domains\n",
    "dict_domain_color = {}\n",
    "\n",
    "for i in xrange(len(domain_list)):\n",
    "    beg = beg_list[i]\n",
    "    end = end_list[i]\n",
    "    domain = domain_list[i]\n",
    "    domain_len = end -beg + 1\n",
    "    \n",
    "    if domain in dict_domain_color:\n",
    "        color = dict_domain_color[domain]\n",
    "    else:\n",
    "        color = color_list[len(dict_domain_color)]\n",
    "    \n",
    "    dwg.add(dwg.rect(insert=(x0 + length * beg / prolen, y0),\n",
    "                     size=(length * domain_len / prolen, 20),\n",
    "                     rx=5, ry=5,\n",
    "                     stroke='black',\n",
    "                     stroke_width=1,\n",
    "                     fill_opacity=1,\n",
    "                     fill=color))\n",
    "    \n",
    "    # legend shape\n",
    "    if domain not in dict_domain_color:\n",
    "        dwg.add(dwg.rect(insert=(x0 + 100, y0 + 50 + 20 * len(dict_domain_color)),\n",
    "                         size=(10, 10),\n",
    "                         rx=1, ry=1,\n",
    "                         stroke='black',\n",
    "                         stroke_width=1,\n",
    "                         fill_opacity=1,\n",
    "                         fill=color))\n",
    "\n",
    "        # legend text\n",
    "        dwg.add(dwg.text(domain,\n",
    "                         insert=(x0 + 120, y0 + 60 + 20 * len(dict_domain_color)),\n",
    "                         style=\"font-size:15\"))\n",
    "    # record domain\n",
    "    dict_domain_color[domain] = color\n",
    "\n",
    "\n",
    "dwg.save()\n",
    "display(SVG('test.svg'))    "
   ]
  },
  {
   "cell_type": "markdown",
   "metadata": {},
   "source": [
    "### preprocess mutation data frame"
   ]
  },
  {
   "cell_type": "code",
   "execution_count": 87,
   "metadata": {
    "collapsed": false
   },
   "outputs": [
    {
     "data": {
      "text/html": [
       "<div>\n",
       "<table border=\"1\" class=\"dataframe\">\n",
       "  <thead>\n",
       "    <tr style=\"text-align: right;\">\n",
       "      <th></th>\n",
       "      <th>sample</th>\n",
       "      <th>gene</th>\n",
       "      <th>nm</th>\n",
       "      <th>aachange</th>\n",
       "      <th>pos</th>\n",
       "      <th>sample_idx</th>\n",
       "      <th>color</th>\n",
       "    </tr>\n",
       "  </thead>\n",
       "  <tbody>\n",
       "    <tr>\n",
       "      <th>0</th>\n",
       "      <td>sample_1</td>\n",
       "      <td>ACTN4</td>\n",
       "      <td>NM_004924</td>\n",
       "      <td>G30Y</td>\n",
       "      <td>30</td>\n",
       "      <td>0.0</td>\n",
       "      <td>#e41a1c</td>\n",
       "    </tr>\n",
       "    <tr>\n",
       "      <th>1</th>\n",
       "      <td>sample_1</td>\n",
       "      <td>ACTN4</td>\n",
       "      <td>NM_004924</td>\n",
       "      <td>A400E</td>\n",
       "      <td>400</td>\n",
       "      <td>0.0</td>\n",
       "      <td>#e41a1c</td>\n",
       "    </tr>\n",
       "    <tr>\n",
       "      <th>2</th>\n",
       "      <td>sample_2</td>\n",
       "      <td>ACTN4</td>\n",
       "      <td>NM_004924</td>\n",
       "      <td>N35L</td>\n",
       "      <td>35</td>\n",
       "      <td>1.0</td>\n",
       "      <td>#377eb8</td>\n",
       "    </tr>\n",
       "    <tr>\n",
       "      <th>3</th>\n",
       "      <td>sample_3</td>\n",
       "      <td>ACTN4</td>\n",
       "      <td>NM_004924</td>\n",
       "      <td>A400G</td>\n",
       "      <td>400</td>\n",
       "      <td>2.0</td>\n",
       "      <td>#4daf4a</td>\n",
       "    </tr>\n",
       "  </tbody>\n",
       "</table>\n",
       "</div>"
      ],
      "text/plain": [
       "     sample   gene         nm aachange  pos  sample_idx    color\n",
       "0  sample_1  ACTN4  NM_004924     G30Y   30         0.0  #e41a1c\n",
       "1  sample_1  ACTN4  NM_004924    A400E  400         0.0  #e41a1c\n",
       "2  sample_2  ACTN4  NM_004924     N35L   35         1.0  #377eb8\n",
       "3  sample_3  ACTN4  NM_004924    A400G  400         2.0  #4daf4a"
      ]
     },
     "execution_count": 87,
     "metadata": {},
     "output_type": "execute_result"
    }
   ],
   "source": [
    "# position\n",
    "df_mutation['pos'] = df_mutation['aachange'].apply(lambda x: int(x[1:-1]))\n",
    "\n",
    "# color\n",
    "df_mutation['sample_idx'] = df_mutation['sample'].rank(method='dense') - 1\n",
    "df_mutation['color'] = df_mutation['sample_idx'].apply(lambda x: color_list_2[int(x)])\n",
    "\n",
    "df_mutation"
   ]
  },
  {
   "cell_type": "markdown",
   "metadata": {},
   "source": [
    "### mutation circle"
   ]
  },
  {
   "cell_type": "code",
   "execution_count": 88,
   "metadata": {
    "collapsed": false
   },
   "outputs": [
    {
     "data": {
      "image/svg+xml": [
       "<svg baseProfile=\"full\" height=\"600\" version=\"1.1\" width=\"1250\" xmlns=\"http://www.w3.org/2000/svg\" xmlns:ev=\"http://www.w3.org/2001/xml-events\" xmlns:xlink=\"http://www.w3.org/1999/xlink\"><defs/><rect fill=\"none\" height=\"20\" stroke=\"black\" stroke-width=\"2\" width=\"500\" x=\"160\" y=\"250\"/><text style=\"font-size:18\" x=\"160\" y=\"290\">1</text><text style=\"font-size:18\" x=\"660\" y=\"290\">911</text><text style=\"font-size:20\" x=\"60\" y=\"270\">ACTN4</text><rect fill=\"#8dd3c7\" fill-opacity=\"1\" height=\"20\" rx=\"5\" ry=\"5\" stroke=\"black\" stroke-width=\"1\" width=\"147.639956092\" x=\"160.54884742\" y=\"250\"/><rect fill=\"#8dd3c7\" fill-opacity=\"1\" height=\"10\" rx=\"1\" ry=\"1\" stroke=\"black\" stroke-width=\"1\" width=\"10\" x=\"260\" y=\"300\"/><text style=\"font-size:15\" x=\"280\" y=\"310\">Actin-binding</text><rect fill=\"#ffffb3\" fill-opacity=\"1\" height=\"20\" rx=\"5\" ry=\"5\" stroke=\"black\" stroke-width=\"1\" width=\"57.6289791438\" x=\"187.442371021\" y=\"250\"/><rect fill=\"#ffffb3\" fill-opacity=\"1\" height=\"10\" rx=\"1\" ry=\"1\" stroke=\"black\" stroke-width=\"1\" width=\"10\" x=\"260\" y=\"320\"/><text style=\"font-size:15\" x=\"280\" y=\"330\">CH</text><rect fill=\"#ffffb3\" fill-opacity=\"1\" height=\"20\" rx=\"5\" ry=\"5\" stroke=\"black\" stroke-width=\"1\" width=\"58.7266739846\" x=\"249.462129528\" y=\"250\"/><rect fill=\"#bebada\" fill-opacity=\"1\" height=\"20\" rx=\"5\" ry=\"5\" stroke=\"black\" stroke-width=\"1\" width=\"19.758507135\" x=\"579.868276619\" y=\"250\"/><rect fill=\"#bebada\" fill-opacity=\"1\" height=\"10\" rx=\"1\" ry=\"1\" stroke=\"black\" stroke-width=\"1\" width=\"10\" x=\"260\" y=\"340\"/><text style=\"font-size:15\" x=\"280\" y=\"350\">EF-hand</text><rect fill=\"#bebada\" fill-opacity=\"1\" height=\"20\" rx=\"5\" ry=\"5\" stroke=\"black\" stroke-width=\"1\" width=\"19.758507135\" x=\"602.371020856\" y=\"250\"/><circle cx=\"176.465422613\" cy=\"242\" fill=\"#e41a1c\" r=\"4\" stroke=\"black\"/><circle cx=\"379.538968167\" cy=\"242\" fill=\"#e41a1c\" r=\"4\" stroke=\"black\"/><circle cx=\"179.209659715\" cy=\"242\" fill=\"#377eb8\" r=\"4\" stroke=\"black\"/><circle cx=\"379.538968167\" cy=\"242\" fill=\"#4daf4a\" r=\"4\" stroke=\"black\"/></svg>"
      ],
      "text/plain": [
       "<IPython.core.display.SVG object>"
      ]
     },
     "metadata": {},
     "output_type": "display_data"
    }
   ],
   "source": [
    "for idx, row in df_mutation.iterrows():\n",
    "    dwg.add(dwg.circle(center=(x0 + length * row['pos'] / prolen, y0 - 8),\n",
    "                       r=4,\n",
    "                       stroke='black',\n",
    "                       fill=row['color']))\n",
    "\n",
    "dwg.save()\n",
    "display(SVG('test.svg'))"
   ]
  },
  {
   "cell_type": "markdown",
   "metadata": {},
   "source": [
    "### sample legend"
   ]
  },
  {
   "cell_type": "code",
   "execution_count": 89,
   "metadata": {
    "collapsed": false
   },
   "outputs": [
    {
     "data": {
      "image/svg+xml": [
       "<svg baseProfile=\"full\" height=\"600\" version=\"1.1\" width=\"1250\" xmlns=\"http://www.w3.org/2000/svg\" xmlns:ev=\"http://www.w3.org/2001/xml-events\" xmlns:xlink=\"http://www.w3.org/1999/xlink\"><defs/><rect fill=\"none\" height=\"20\" stroke=\"black\" stroke-width=\"2\" width=\"500\" x=\"160\" y=\"250\"/><text style=\"font-size:18\" x=\"160\" y=\"290\">1</text><text style=\"font-size:18\" x=\"660\" y=\"290\">911</text><text style=\"font-size:20\" x=\"60\" y=\"270\">ACTN4</text><rect fill=\"#8dd3c7\" fill-opacity=\"1\" height=\"20\" rx=\"5\" ry=\"5\" stroke=\"black\" stroke-width=\"1\" width=\"147.639956092\" x=\"160.54884742\" y=\"250\"/><rect fill=\"#8dd3c7\" fill-opacity=\"1\" height=\"10\" rx=\"1\" ry=\"1\" stroke=\"black\" stroke-width=\"1\" width=\"10\" x=\"260\" y=\"300\"/><text style=\"font-size:15\" x=\"280\" y=\"310\">Actin-binding</text><rect fill=\"#ffffb3\" fill-opacity=\"1\" height=\"20\" rx=\"5\" ry=\"5\" stroke=\"black\" stroke-width=\"1\" width=\"57.6289791438\" x=\"187.442371021\" y=\"250\"/><rect fill=\"#ffffb3\" fill-opacity=\"1\" height=\"10\" rx=\"1\" ry=\"1\" stroke=\"black\" stroke-width=\"1\" width=\"10\" x=\"260\" y=\"320\"/><text style=\"font-size:15\" x=\"280\" y=\"330\">CH</text><rect fill=\"#ffffb3\" fill-opacity=\"1\" height=\"20\" rx=\"5\" ry=\"5\" stroke=\"black\" stroke-width=\"1\" width=\"58.7266739846\" x=\"249.462129528\" y=\"250\"/><rect fill=\"#bebada\" fill-opacity=\"1\" height=\"20\" rx=\"5\" ry=\"5\" stroke=\"black\" stroke-width=\"1\" width=\"19.758507135\" x=\"579.868276619\" y=\"250\"/><rect fill=\"#bebada\" fill-opacity=\"1\" height=\"10\" rx=\"1\" ry=\"1\" stroke=\"black\" stroke-width=\"1\" width=\"10\" x=\"260\" y=\"340\"/><text style=\"font-size:15\" x=\"280\" y=\"350\">EF-hand</text><rect fill=\"#bebada\" fill-opacity=\"1\" height=\"20\" rx=\"5\" ry=\"5\" stroke=\"black\" stroke-width=\"1\" width=\"19.758507135\" x=\"602.371020856\" y=\"250\"/><circle cx=\"176.465422613\" cy=\"242\" fill=\"#e41a1c\" r=\"4\" stroke=\"black\"/><circle cx=\"379.538968167\" cy=\"242\" fill=\"#e41a1c\" r=\"4\" stroke=\"black\"/><circle cx=\"179.209659715\" cy=\"242\" fill=\"#377eb8\" r=\"4\" stroke=\"black\"/><circle cx=\"379.538968167\" cy=\"242\" fill=\"#4daf4a\" r=\"4\" stroke=\"black\"/><circle cx=\"460\" cy=\"305.0\" fill=\"#e41a1c\" r=\"4\" stroke=\"black\"/><text style=\"font-size:15\" x=\"480\" y=\"310.0\">sample_1</text><circle cx=\"460\" cy=\"325.0\" fill=\"#377eb8\" r=\"4\" stroke=\"black\"/><text style=\"font-size:15\" x=\"480\" y=\"330.0\">sample_2</text><circle cx=\"460\" cy=\"345.0\" fill=\"#4daf4a\" r=\"4\" stroke=\"black\"/><text style=\"font-size:15\" x=\"480\" y=\"350.0\">sample_3</text></svg>"
      ],
      "text/plain": [
       "<IPython.core.display.SVG object>"
      ]
     },
     "metadata": {},
     "output_type": "display_data"
    }
   ],
   "source": [
    "for idx, row in df_mutation.drop_duplicates('sample').iterrows():\n",
    "    # sample legend shape\n",
    "    dwg.add(dwg.circle(center=(x0 + 300, y0 + 55 + 20 * row['sample_idx']),\n",
    "                       r=4,\n",
    "                       stroke='black',\n",
    "                       fill=row['color']))\n",
    "\n",
    "    # sample legend text\n",
    "    dwg.add(dwg.text(row['sample'],\n",
    "                     insert=(x0 + 320, y0 + 60 + 20 * row['sample_idx']),\n",
    "                     style=\"font-size:15\"))\n",
    "\n",
    "dwg.save()\n",
    "display(SVG('test.svg'))"
   ]
  },
  {
   "cell_type": "markdown",
   "metadata": {},
   "source": [
    "### merge different alternative mutations of one aa"
   ]
  },
  {
   "cell_type": "code",
   "execution_count": 90,
   "metadata": {
    "collapsed": false
   },
   "outputs": [
    {
     "data": {
      "text/html": [
       "<div>\n",
       "<table border=\"1\" class=\"dataframe\">\n",
       "  <thead>\n",
       "    <tr style=\"text-align: right;\">\n",
       "      <th></th>\n",
       "      <th>aachange</th>\n",
       "      <th>pos</th>\n",
       "      <th>pos_dodge</th>\n",
       "    </tr>\n",
       "  </thead>\n",
       "  <tbody>\n",
       "    <tr>\n",
       "      <th>0</th>\n",
       "      <td>G30Y</td>\n",
       "      <td>30</td>\n",
       "      <td>30</td>\n",
       "    </tr>\n",
       "    <tr>\n",
       "      <th>1</th>\n",
       "      <td>N35L</td>\n",
       "      <td>35</td>\n",
       "      <td>55</td>\n",
       "    </tr>\n",
       "    <tr>\n",
       "      <th>2</th>\n",
       "      <td>A400E,A400G</td>\n",
       "      <td>400</td>\n",
       "      <td>400</td>\n",
       "    </tr>\n",
       "  </tbody>\n",
       "</table>\n",
       "</div>"
      ],
      "text/plain": [
       "      aachange  pos  pos_dodge\n",
       "0         G30Y   30         30\n",
       "1         N35L   35         55\n",
       "2  A400E,A400G  400        400"
      ]
     },
     "execution_count": 90,
     "metadata": {},
     "output_type": "execute_result"
    }
   ],
   "source": [
    "sr_label = df_mutation[['pos', 'aachange']].groupby('pos')['aachange'].apply(lambda x: ','.join(x))\n",
    "\n",
    "# pos are in order\n",
    "df_label = pd.DataFrame({'pos': sr_label.index, 'aachange': list(sr_label)})\n",
    "\n",
    "# mutation text position\n",
    "def calculate_dodge(array, dist):\n",
    "    for i in xrange(len(array) - 1):\n",
    "        if array[i+1] < array[i] + dist:\n",
    "            array[i+1] = array[i] + dist\n",
    "    return array\n",
    "\n",
    "df_label['pos_dodge'] = calculate_dodge(df_label['pos'].tolist(), min_distance)\n",
    "\n",
    "df_label"
   ]
  },
  {
   "cell_type": "markdown",
   "metadata": {},
   "source": [
    "### mutation line and text"
   ]
  },
  {
   "cell_type": "code",
   "execution_count": 91,
   "metadata": {
    "collapsed": false
   },
   "outputs": [
    {
     "data": {
      "image/svg+xml": [
       "<svg baseProfile=\"full\" height=\"600\" version=\"1.1\" width=\"1250\" xmlns=\"http://www.w3.org/2000/svg\" xmlns:ev=\"http://www.w3.org/2001/xml-events\" xmlns:xlink=\"http://www.w3.org/1999/xlink\"><defs/><rect fill=\"none\" height=\"20\" stroke=\"black\" stroke-width=\"2\" width=\"500\" x=\"160\" y=\"250\"/><text style=\"font-size:18\" x=\"160\" y=\"290\">1</text><text style=\"font-size:18\" x=\"660\" y=\"290\">911</text><text style=\"font-size:20\" x=\"60\" y=\"270\">ACTN4</text><rect fill=\"#8dd3c7\" fill-opacity=\"1\" height=\"20\" rx=\"5\" ry=\"5\" stroke=\"black\" stroke-width=\"1\" width=\"147.639956092\" x=\"160.54884742\" y=\"250\"/><rect fill=\"#8dd3c7\" fill-opacity=\"1\" height=\"10\" rx=\"1\" ry=\"1\" stroke=\"black\" stroke-width=\"1\" width=\"10\" x=\"260\" y=\"300\"/><text style=\"font-size:15\" x=\"280\" y=\"310\">Actin-binding</text><rect fill=\"#ffffb3\" fill-opacity=\"1\" height=\"20\" rx=\"5\" ry=\"5\" stroke=\"black\" stroke-width=\"1\" width=\"57.6289791438\" x=\"187.442371021\" y=\"250\"/><rect fill=\"#ffffb3\" fill-opacity=\"1\" height=\"10\" rx=\"1\" ry=\"1\" stroke=\"black\" stroke-width=\"1\" width=\"10\" x=\"260\" y=\"320\"/><text style=\"font-size:15\" x=\"280\" y=\"330\">CH</text><rect fill=\"#ffffb3\" fill-opacity=\"1\" height=\"20\" rx=\"5\" ry=\"5\" stroke=\"black\" stroke-width=\"1\" width=\"58.7266739846\" x=\"249.462129528\" y=\"250\"/><rect fill=\"#bebada\" fill-opacity=\"1\" height=\"20\" rx=\"5\" ry=\"5\" stroke=\"black\" stroke-width=\"1\" width=\"19.758507135\" x=\"579.868276619\" y=\"250\"/><rect fill=\"#bebada\" fill-opacity=\"1\" height=\"10\" rx=\"1\" ry=\"1\" stroke=\"black\" stroke-width=\"1\" width=\"10\" x=\"260\" y=\"340\"/><text style=\"font-size:15\" x=\"280\" y=\"350\">EF-hand</text><rect fill=\"#bebada\" fill-opacity=\"1\" height=\"20\" rx=\"5\" ry=\"5\" stroke=\"black\" stroke-width=\"1\" width=\"19.758507135\" x=\"602.371020856\" y=\"250\"/><circle cx=\"176.465422613\" cy=\"242\" fill=\"#e41a1c\" r=\"4\" stroke=\"black\"/><circle cx=\"379.538968167\" cy=\"242\" fill=\"#e41a1c\" r=\"4\" stroke=\"black\"/><circle cx=\"179.209659715\" cy=\"242\" fill=\"#377eb8\" r=\"4\" stroke=\"black\"/><circle cx=\"379.538968167\" cy=\"242\" fill=\"#4daf4a\" r=\"4\" stroke=\"black\"/><circle cx=\"460\" cy=\"305.0\" fill=\"#e41a1c\" r=\"4\" stroke=\"black\"/><text style=\"font-size:15\" x=\"480\" y=\"310.0\">sample_1</text><circle cx=\"460\" cy=\"325.0\" fill=\"#377eb8\" r=\"4\" stroke=\"black\"/><text style=\"font-size:15\" x=\"480\" y=\"330.0\">sample_2</text><circle cx=\"460\" cy=\"345.0\" fill=\"#4daf4a\" r=\"4\" stroke=\"black\"/><text style=\"font-size:15\" x=\"480\" y=\"350.0\">sample_3</text><polyline fill=\"none\" points=\"176.465422613,230 176.465422613,190 176.465422613,170 176.465422613,150\" stroke=\"black\"/><text style=\"font-size:14\" transform=\"rotate(315,176.465422613,150)\" x=\"176.465422613\" y=\"150\">G30Y</text><polyline fill=\"none\" points=\"179.209659715,230 179.209659715,190 190.186608123,170 190.186608123,150\" stroke=\"black\"/><text style=\"font-size:14\" transform=\"rotate(315,190.186608123,150)\" x=\"190.186608123\" y=\"150\">N35L</text><polyline fill=\"none\" points=\"379.538968167,230 379.538968167,190 379.538968167,170 379.538968167,150\" stroke=\"black\"/><text style=\"font-size:14\" transform=\"rotate(315,379.538968167,150)\" x=\"379.538968167\" y=\"150\">A400E,A400G</text></svg>"
      ],
      "text/plain": [
       "<IPython.core.display.SVG object>"
      ]
     },
     "metadata": {},
     "output_type": "display_data"
    }
   ],
   "source": [
    "for idx, row in df_label.iterrows():\n",
    "    # bug: must be int\n",
    "    x1 = x0 + int(row['pos']) * length / prolen\n",
    "    x2 = x0 + int(row['pos_dodge']) * length / prolen\n",
    "    # line\n",
    "    dwg.add(dwg.polyline([(x1, y0 - 20), (x1, y0 - 60), (x2, y0 - 80), (x2, y0 - 100)],\n",
    "                         fill='none',\n",
    "                         stroke='black'))\n",
    "    \n",
    "    # text\n",
    "    text = dwg.add(dwg.text(row['aachange'],\n",
    "                            insert=(x2, y0 - 100),\n",
    "                            style=\"font-size:14\"))\n",
    "    # rotate text\n",
    "    text.rotate(315, (x2, y0 - 100))\n",
    "\n",
    "dwg.save()\n",
    "display(SVG('test.svg'))"
   ]
  },
  {
   "cell_type": "code",
   "execution_count": null,
   "metadata": {
    "collapsed": true
   },
   "outputs": [],
   "source": []
  }
 ],
 "metadata": {
  "kernelspec": {
   "display_name": "Python 2",
   "language": "python",
   "name": "python2"
  },
  "language_info": {
   "codemirror_mode": {
    "name": "ipython",
    "version": 2
   },
   "file_extension": ".py",
   "mimetype": "text/x-python",
   "name": "python",
   "nbconvert_exporter": "python",
   "pygments_lexer": "ipython2",
   "version": "2.7.11"
  }
 },
 "nbformat": 4,
 "nbformat_minor": 0
}
