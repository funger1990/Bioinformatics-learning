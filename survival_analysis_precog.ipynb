{
 "cells": [
  {
   "cell_type": "code",
   "execution_count": 1,
   "metadata": {
    "collapsed": false
   },
   "outputs": [],
   "source": [
    "# \n",
    "# 1. PRECOG example\n",
    "# https://precog.stanford.edu/precog_metaZ.datatable.php\n",
    "\n",
    "# 2. query\n",
    "# gene: TYMS (D00596_at)\n",
    "# cancer: Brain cancer Medulloblastoma\n",
    "\n",
    "# 3. question\n",
    "# Why does blue line fall to zero steeply?\n",
    "\n",
    "# 4. data\n",
    "# dowloaded from PRECOG website\n",
    "\n",
    "# R \n",
    "\n",
    "# "
   ]
  },
  {
   "cell_type": "code",
   "execution_count": 2,
   "metadata": {
    "collapsed": false
   },
   "outputs": [
    {
     "name": "stderr",
     "output_type": "stream",
     "text": [
      "Warning message:\n",
      "\"package 'IRdisplay' was built under R version 3.2.5\""
     ]
    },
    {
     "data": {
      "image/png": "[encoded data removed]"
     },
     "metadata": {},
     "output_type": "display_data"
    }
   ],
   "source": [
    "# screenshot of original figure\n",
    "library(IRdisplay)\n",
    "\n",
    "display_png(file='Brain_cancer.Medulloblastoma.Pomeroy_CNS.GPL80.OS.D00596_at.png')"
   ]
  },
  {
   "cell_type": "code",
   "execution_count": 3,
   "metadata": {
    "collapsed": false
   },
   "outputs": [
    {
     "name": "stderr",
     "output_type": "stream",
     "text": [
      "Warning message:\n",
      "\"package 'survival' was built under R version 3.2.3\"Warning message:\n",
      "\"package 'readr' was built under R version 3.2.3\"Warning message:\n",
      "\"package 'GGally' was built under R version 3.2.3\""
     ]
    }
   ],
   "source": [
    "library(survival)\n",
    "library(readr)\n",
    "library(plyr)\n",
    "library(GGally)"
   ]
  },
  {
   "cell_type": "code",
   "execution_count": 4,
   "metadata": {
    "collapsed": false
   },
   "outputs": [
    {
     "data": {
      "text/html": [
       "<table>\n",
       "<thead><tr><th scope=col>Array</th><th scope=col>OS_Time</th><th scope=col>OS_Status</th></tr></thead>\n",
       "<tbody>\n",
       "\t<tr><td>Brain_MD_1</td><td>11        </td><td>1         </td></tr>\n",
       "\t<tr><td>Brain_MD_2</td><td> 5        </td><td>1         </td></tr>\n",
       "\t<tr><td>Brain_MD_3</td><td> 7        </td><td>1         </td></tr>\n",
       "\t<tr><td>Brain_MD_4</td><td> 7        </td><td>1         </td></tr>\n",
       "\t<tr><td>Brain_MD_5</td><td> 7        </td><td>1         </td></tr>\n",
       "\t<tr><td>Brain_MD_6</td><td> 9        </td><td>1         </td></tr>\n",
       "</tbody>\n",
       "</table>\n"
      ],
      "text/latex": [
       "\\begin{tabular}{r|lll}\n",
       " Array & OS\\_Time & OS\\_Status\\\\\n",
       "\\hline\n",
       "\t Brain\\_MD\\_1 & 11             & 1             \\\\\n",
       "\t Brain\\_MD\\_2 &  5             & 1             \\\\\n",
       "\t Brain\\_MD\\_3 &  7             & 1             \\\\\n",
       "\t Brain\\_MD\\_4 &  7             & 1             \\\\\n",
       "\t Brain\\_MD\\_5 &  7             & 1             \\\\\n",
       "\t Brain\\_MD\\_6 &  9             & 1             \\\\\n",
       "\\end{tabular}\n"
      ],
      "text/plain": [
       "  Array      OS_Time OS_Status\n",
       "1 Brain_MD_1 11      1        \n",
       "2 Brain_MD_2  5      1        \n",
       "3 Brain_MD_3  7      1        \n",
       "4 Brain_MD_4  7      1        \n",
       "5 Brain_MD_5  7      1        \n",
       "6 Brain_MD_6  9      1        "
      ]
     },
     "metadata": {},
     "output_type": "display_data"
    }
   ],
   "source": [
    "# survival information\n",
    "\n",
    "df.info <- readr::read_tsv('Pomeroy_CNS.info.tsv')\n",
    "head(df.info)"
   ]
  },
  {
   "cell_type": "code",
   "execution_count": 5,
   "metadata": {
    "collapsed": false
   },
   "outputs": [
    {
     "data": {
      "text/html": [
       "<table>\n",
       "<thead><tr><th scope=col>Gene</th><th scope=col>Name</th><th scope=col>Brain_MD_1</th><th scope=col>Brain_MD_2</th><th scope=col>Brain_MD_3</th><th scope=col>Brain_MD_4</th><th scope=col>Brain_MD_5</th><th scope=col>Brain_MD_6</th><th scope=col>Brain_MD_7</th><th scope=col>Brain_MD_8</th><th scope=col>...</th><th scope=col>Brain_Ncer_1</th><th scope=col>Brain_Ncer_2</th><th scope=col>Brain_Ncer_3</th><th scope=col>Brain_Ncer_4</th><th scope=col>Brain_PNET_1</th><th scope=col>Brain_PNET_2</th><th scope=col>Brain_PNET_3</th><th scope=col>Brain_PNET_4</th><th scope=col>Brain_PNET_5</th><th scope=col>Brain_PNET_6</th></tr></thead>\n",
       "<tbody>\n",
       "\t<tr><td>A28102_at                                                                                      </td><td>GABRA3 - gamma-aminobutyric acid (GABA) A receptor, alpha 3                                    </td><td>7.727921                                                                                       </td><td>6.870365                                                                                       </td><td>8.515699                                                                                       </td><td>9.294621                                                                                       </td><td>8.092757                                                                                       </td><td>5.426265                                                                                       </td><td>7.149747                                                                                       </td><td>10.603626                                                                                      </td><td>...                                                                                            </td><td>8.092757                                                                                       </td><td>9.698705                                                                                       </td><td>5.000000                                                                                       </td><td>6.629356                                                                                       </td><td>7.924812                                                                                       </td><td>7.554589                                                                                       </td><td>8.761551                                                                                       </td><td>7.562243                                                                                       </td><td>9.250298                                                                                       </td><td> 8.257388                                                                                      </td></tr>\n",
       "\t<tr><td>AB000114_at                                                                                    </td><td>OMD - osteomodulin                                                                             </td><td>1.584962                                                                                       </td><td>0.000000                                                                                       </td><td>0.000000                                                                                       </td><td>7.888743                                                                                       </td><td>7.467606                                                                                       </td><td>5.169925                                                                                       </td><td>6.629356                                                                                       </td><td> 0.000000                                                                                      </td><td>...                                                                                            </td><td>0.000000                                                                                       </td><td>7.813781                                                                                       </td><td>0.000000                                                                                       </td><td>0.000000                                                                                       </td><td>5.643856                                                                                       </td><td>5.781360                                                                                       </td><td>7.906890                                                                                       </td><td>3.169925                                                                                       </td><td>0.000000                                                                                       </td><td> 7.888743                                                                                      </td></tr>\n",
       "\t<tr><td>AB000115_at                                                                                    </td><td>IFI44L - interferon-induced protein 44-like                                                    </td><td>6.507795                                                                                       </td><td>9.033423                                                                                       </td><td>7.257388                                                                                       </td><td>7.000000                                                                                       </td><td>7.366322                                                                                       </td><td>0.000000                                                                                       </td><td>7.055283                                                                                       </td><td> 6.741467                                                                                      </td><td>...                                                                                            </td><td>7.584962                                                                                       </td><td>9.505812                                                                                       </td><td>8.405142                                                                                       </td><td>8.339850                                                                                       </td><td>5.321928                                                                                       </td><td>8.417852                                                                                       </td><td>9.958552                                                                                       </td><td>7.523562                                                                                       </td><td>8.103288                                                                                       </td><td> 7.781360                                                                                      </td></tr>\n",
       "\t<tr><td>AB000220_at                                                                                    </td><td>SEMA3C - sema domain, immunoglobulin domain (Ig), short basic domain, secreted, (semaphorin) 3C</td><td>9.306062                                                                                       </td><td>7.882643                                                                                       </td><td>6.539159                                                                                       </td><td>6.918863                                                                                       </td><td>9.971543                                                                                       </td><td>5.832890                                                                                       </td><td>7.658212                                                                                       </td><td> 6.129283                                                                                      </td><td>...                                                                                            </td><td>8.159871                                                                                       </td><td>9.426265                                                                                       </td><td>7.693487                                                                                       </td><td>7.546895                                                                                       </td><td>8.005625                                                                                       </td><td>6.247928                                                                                       </td><td>6.392317                                                                                       </td><td>8.734710                                                                                       </td><td>7.285402                                                                                       </td><td>11.310044                                                                                      </td></tr>\n",
       "\t<tr><td>AB000381_s_at                                                                                  </td><td>GML - glycosylphosphatidylinositol anchored molecule like protein                              </td><td>4.584962                                                                                       </td><td>4.523562                                                                                       </td><td>5.459432                                                                                       </td><td>0.000000                                                                                       </td><td>2.584963                                                                                       </td><td>0.000000                                                                                       </td><td>5.727921                                                                                       </td><td> 2.584963                                                                                      </td><td>...                                                                                            </td><td>4.584962                                                                                       </td><td>4.392317                                                                                       </td><td>0.000000                                                                                       </td><td>5.554589                                                                                       </td><td>6.339850                                                                                       </td><td>6.209454                                                                                       </td><td>6.129283                                                                                       </td><td>0.000000                                                                                       </td><td>0.000000                                                                                       </td><td> 6.794416                                                                                      </td></tr>\n",
       "\t<tr><td>AB000409_at                                                                                    </td><td>MKNK1 - MAP kinase interacting serine/threonine kinase 1                                       </td><td>4.523562                                                                                       </td><td>4.169925                                                                                       </td><td>0.000000                                                                                       </td><td>0.000000                                                                                       </td><td>0.000000                                                                                       </td><td>0.000000                                                                                       </td><td>0.000000                                                                                       </td><td> 0.000000                                                                                      </td><td>...                                                                                            </td><td>7.614710                                                                                       </td><td>7.918863                                                                                       </td><td>2.807355                                                                                       </td><td>0.000000                                                                                       </td><td>0.000000                                                                                       </td><td>6.285402                                                                                       </td><td>0.000000                                                                                       </td><td>7.238405                                                                                       </td><td>6.857981                                                                                       </td><td> 6.189825                                                                                      </td></tr>\n",
       "</tbody>\n",
       "</table>\n"
      ],
      "text/latex": [
       "\\begin{tabular}{r|llllllllllllllllllllllllllllllllllllllllllllllllllllllllllllllllllllllllllllllllllllllllllll}\n",
       " Gene & Name & Brain\\_MD\\_1 & Brain\\_MD\\_2 & Brain\\_MD\\_3 & Brain\\_MD\\_4 & Brain\\_MD\\_5 & Brain\\_MD\\_6 & Brain\\_MD\\_7 & Brain\\_MD\\_8 & ... & Brain\\_Ncer\\_1 & Brain\\_Ncer\\_2 & Brain\\_Ncer\\_3 & Brain\\_Ncer\\_4 & Brain\\_PNET\\_1 & Brain\\_PNET\\_2 & Brain\\_PNET\\_3 & Brain\\_PNET\\_4 & Brain\\_PNET\\_5 & Brain\\_PNET\\_6\\\\\n",
       "\\hline\n",
       "\t A28102\\_at                                                                                     & GABRA3 - gamma-aminobutyric acid (GABA) A receptor, alpha 3                                     & 7.727921                                                                                        & 6.870365                                                                                        & 8.515699                                                                                        & 9.294621                                                                                        & 8.092757                                                                                        & 5.426265                                                                                        & 7.149747                                                                                        & 10.603626                                                                                       & ...                                                                                             & 8.092757                                                                                        & 9.698705                                                                                        & 5.000000                                                                                        & 6.629356                                                                                        & 7.924812                                                                                        & 7.554589                                                                                        & 8.761551                                                                                        & 7.562243                                                                                        & 9.250298                                                                                        &  8.257388                                                                                      \\\\\n",
       "\t AB000114\\_at                                                                                   & OMD - osteomodulin                                                                              & 1.584962                                                                                        & 0.000000                                                                                        & 0.000000                                                                                        & 7.888743                                                                                        & 7.467606                                                                                        & 5.169925                                                                                        & 6.629356                                                                                        &  0.000000                                                                                       & ...                                                                                             & 0.000000                                                                                        & 7.813781                                                                                        & 0.000000                                                                                        & 0.000000                                                                                        & 5.643856                                                                                        & 5.781360                                                                                        & 7.906890                                                                                        & 3.169925                                                                                        & 0.000000                                                                                        &  7.888743                                                                                      \\\\\n",
       "\t AB000115\\_at                                                                                   & IFI44L - interferon-induced protein 44-like                                                     & 6.507795                                                                                        & 9.033423                                                                                        & 7.257388                                                                                        & 7.000000                                                                                        & 7.366322                                                                                        & 0.000000                                                                                        & 7.055283                                                                                        &  6.741467                                                                                       & ...                                                                                             & 7.584962                                                                                        & 9.505812                                                                                        & 8.405142                                                                                        & 8.339850                                                                                        & 5.321928                                                                                        & 8.417852                                                                                        & 9.958552                                                                                        & 7.523562                                                                                        & 8.103288                                                                                        &  7.781360                                                                                      \\\\\n",
       "\t AB000220\\_at                                                                                   & SEMA3C - sema domain, immunoglobulin domain (Ig), short basic domain, secreted, (semaphorin) 3C & 9.306062                                                                                        & 7.882643                                                                                        & 6.539159                                                                                        & 6.918863                                                                                        & 9.971543                                                                                        & 5.832890                                                                                        & 7.658212                                                                                        &  6.129283                                                                                       & ...                                                                                             & 8.159871                                                                                        & 9.426265                                                                                        & 7.693487                                                                                        & 7.546895                                                                                        & 8.005625                                                                                        & 6.247928                                                                                        & 6.392317                                                                                        & 8.734710                                                                                        & 7.285402                                                                                        & 11.310044                                                                                      \\\\\n",
       "\t AB000381\\_s\\_at                                                                               & GML - glycosylphosphatidylinositol anchored molecule like protein                               & 4.584962                                                                                        & 4.523562                                                                                        & 5.459432                                                                                        & 0.000000                                                                                        & 2.584963                                                                                        & 0.000000                                                                                        & 5.727921                                                                                        &  2.584963                                                                                       & ...                                                                                             & 4.584962                                                                                        & 4.392317                                                                                        & 0.000000                                                                                        & 5.554589                                                                                        & 6.339850                                                                                        & 6.209454                                                                                        & 6.129283                                                                                        & 0.000000                                                                                        & 0.000000                                                                                        &  6.794416                                                                                      \\\\\n",
       "\t AB000409\\_at                                                                                   & MKNK1 - MAP kinase interacting serine/threonine kinase 1                                        & 4.523562                                                                                        & 4.169925                                                                                        & 0.000000                                                                                        & 0.000000                                                                                        & 0.000000                                                                                        & 0.000000                                                                                        & 0.000000                                                                                        &  0.000000                                                                                       & ...                                                                                             & 7.614710                                                                                        & 7.918863                                                                                        & 2.807355                                                                                        & 0.000000                                                                                        & 0.000000                                                                                        & 6.285402                                                                                        & 0.000000                                                                                        & 7.238405                                                                                        & 6.857981                                                                                        &  6.189825                                                                                      \\\\\n",
       "\\end{tabular}\n"
      ],
      "text/plain": [
       "  Gene         \n",
       "1 A28102_at    \n",
       "2 AB000114_at  \n",
       "3 AB000115_at  \n",
       "4 AB000220_at  \n",
       "5 AB000381_s_at\n",
       "6 AB000409_at  \n",
       "  Name                                                                                           \n",
       "1 GABRA3 - gamma-aminobutyric acid (GABA) A receptor, alpha 3                                    \n",
       "2 OMD - osteomodulin                                                                             \n",
       "3 IFI44L - interferon-induced protein 44-like                                                    \n",
       "4 SEMA3C - sema domain, immunoglobulin domain (Ig), short basic domain, secreted, (semaphorin) 3C\n",
       "5 GML - glycosylphosphatidylinositol anchored molecule like protein                              \n",
       "6 MKNK1 - MAP kinase interacting serine/threonine kinase 1                                       \n",
       "  Brain_MD_1 Brain_MD_2 Brain_MD_3 Brain_MD_4 Brain_MD_5 Brain_MD_6 Brain_MD_7\n",
       "1 7.727921   6.870365   8.515699   9.294621   8.092757   5.426265   7.149747  \n",
       "2 1.584962   0.000000   0.000000   7.888743   7.467606   5.169925   6.629356  \n",
       "3 6.507795   9.033423   7.257388   7.000000   7.366322   0.000000   7.055283  \n",
       "4 9.306062   7.882643   6.539159   6.918863   9.971543   5.832890   7.658212  \n",
       "5 4.584962   4.523562   5.459432   0.000000   2.584963   0.000000   5.727921  \n",
       "6 4.523562   4.169925   0.000000   0.000000   0.000000   0.000000   0.000000  \n",
       "  Brain_MD_8 ... Brain_Ncer_1 Brain_Ncer_2 Brain_Ncer_3 Brain_Ncer_4\n",
       "1 10.603626  ... 8.092757     9.698705     5.000000     6.629356    \n",
       "2  0.000000  ... 0.000000     7.813781     0.000000     0.000000    \n",
       "3  6.741467  ... 7.584962     9.505812     8.405142     8.339850    \n",
       "4  6.129283  ... 8.159871     9.426265     7.693487     7.546895    \n",
       "5  2.584963  ... 4.584962     4.392317     0.000000     5.554589    \n",
       "6  0.000000  ... 7.614710     7.918863     2.807355     0.000000    \n",
       "  Brain_PNET_1 Brain_PNET_2 Brain_PNET_3 Brain_PNET_4 Brain_PNET_5 Brain_PNET_6\n",
       "1 7.924812     7.554589     8.761551     7.562243     9.250298      8.257388   \n",
       "2 5.643856     5.781360     7.906890     3.169925     0.000000      7.888743   \n",
       "3 5.321928     8.417852     9.958552     7.523562     8.103288      7.781360   \n",
       "4 8.005625     6.247928     6.392317     8.734710     7.285402     11.310044   \n",
       "5 6.339850     6.209454     6.129283     0.000000     0.000000      6.794416   \n",
       "6 0.000000     6.285402     0.000000     7.238405     6.857981      6.189825   "
      ]
     },
     "metadata": {},
     "output_type": "display_data"
    }
   ],
   "source": [
    "# gene expression\n",
    "\n",
    "df.exp <- readr::read_tsv('Pomeroy_CNS.GPL80.matrix.txt')\n",
    "head(df.exp)"
   ]
  },
  {
   "cell_type": "code",
   "execution_count": 6,
   "metadata": {
    "collapsed": false,
    "scrolled": false
   },
   "outputs": [
    {
     "data": {
      "text/html": [
       "60"
      ],
      "text/latex": [
       "60"
      ],
      "text/markdown": [
       "60"
      ],
      "text/plain": [
       "[1] 60"
      ]
     },
     "metadata": {},
     "output_type": "display_data"
    },
    {
     "data": {
      "text/html": [
       "<table>\n",
       "<thead><tr><th></th><th scope=col>sample</th><th scope=col>time</th><th scope=col>status</th><th scope=col>expression</th><th scope=col>group</th></tr></thead>\n",
       "<tbody>\n",
       "\t<tr><th scope=row>2</th><td>Brain_MD_2</td><td> 5        </td><td>1         </td><td> 9.370687 </td><td>High      </td></tr>\n",
       "\t<tr><th scope=row>3</th><td>Brain_MD_3</td><td> 7        </td><td>1         </td><td>10.166163 </td><td>High      </td></tr>\n",
       "\t<tr><th scope=row>4</th><td>Brain_MD_4</td><td> 7        </td><td>1         </td><td> 6.643856 </td><td>Low       </td></tr>\n",
       "\t<tr><th scope=row>5</th><td>Brain_MD_5</td><td> 7        </td><td>1         </td><td> 9.796040 </td><td>High      </td></tr>\n",
       "\t<tr><th scope=row>6</th><td>Brain_MD_6</td><td> 9        </td><td>1         </td><td> 9.651052 </td><td>High      </td></tr>\n",
       "\t<tr><th scope=row>1</th><td>Brain_MD_1</td><td>11        </td><td>1         </td><td> 9.634811 </td><td>High      </td></tr>\n",
       "</tbody>\n",
       "</table>\n"
      ],
      "text/latex": [
       "\\begin{tabular}{r|lllll}\n",
       "  & sample & time & status & expression & group\\\\\n",
       "\\hline\n",
       "\t2 & Brain\\_MD\\_2 &  5             & 1              &  9.370687      & High          \\\\\n",
       "\t3 & Brain\\_MD\\_3 &  7             & 1              & 10.166163      & High          \\\\\n",
       "\t4 & Brain\\_MD\\_4 &  7             & 1              &  6.643856      & Low           \\\\\n",
       "\t5 & Brain\\_MD\\_5 &  7             & 1              &  9.796040      & High          \\\\\n",
       "\t6 & Brain\\_MD\\_6 &  9             & 1              &  9.651052      & High          \\\\\n",
       "\t1 & Brain\\_MD\\_1 & 11             & 1              &  9.634811      & High          \\\\\n",
       "\\end{tabular}\n"
      ],
      "text/plain": [
       "  sample     time status expression group\n",
       "2 Brain_MD_2  5   1       9.370687  High \n",
       "3 Brain_MD_3  7   1      10.166163  High \n",
       "4 Brain_MD_4  7   1       6.643856  Low  \n",
       "5 Brain_MD_5  7   1       9.796040  High \n",
       "6 Brain_MD_6  9   1       9.651052  High \n",
       "1 Brain_MD_1 11   1       9.634811  High "
      ]
     },
     "metadata": {},
     "output_type": "display_data"
    }
   ],
   "source": [
    "# integrate data\n",
    "\n",
    "# expression\n",
    "df.exp <- subset(df.exp, Gene == 'D00596_at')\n",
    "rownames(df.exp) <- 'expression'\n",
    "df.exp$Gene <- NULL\n",
    "df.exp$Name <- NULL\n",
    "df.exp <- data.frame(t(df.exp))\n",
    "df.exp$sample <- rownames(df.exp)\n",
    "\n",
    "# survival\n",
    "names(df.info) <- c('sample', 'time', 'status')\n",
    "df.info <- subset(df.info, ! is.na(time))\n",
    "\n",
    "# merge\n",
    "df <- plyr::join(df.info, df.exp, by='sample', type='inner')\n",
    "df$group <- ifelse(df$expression > median(df$expression), 'High', 'Low')\n",
    "df <- df[order(df$time), ]\n",
    "\n",
    "nrow(df)\n",
    "head(df)"
   ]
  },
  {
   "cell_type": "code",
   "execution_count": 7,
   "metadata": {
    "collapsed": false
   },
   "outputs": [
    {
     "name": "stderr",
     "output_type": "stream",
     "text": [
      "Loading required package: scales\n",
      "Warning message:\n",
      "\"package 'scales' was built under R version 3.2.4\"\n",
      "Attaching package: 'scales'\n",
      "\n",
      "The following objects are masked from 'package:readr':\n",
      "\n",
      "    col_factor, col_numeric\n",
      "\n"
     ]
    },
    {
     "data": {},
     "metadata": {},
     "output_type": "display_data"
    },
    {
     "data": {
      "image/png": "[encoded data removed]",
      "text/plain": [
       "plot without title"
      ]
     },
     "metadata": {},
     "output_type": "display_data"
    }
   ],
   "source": [
    "# survival analysis\n",
    "\n",
    "# compute a survival curve\n",
    "fit <- survfit(Surv(time, status) ~ group, data=df)\n",
    "\n",
    "# Kaplan-Meier curve\n",
    "GGally::ggsurv(fit)"
   ]
  },
  {
   "cell_type": "code",
   "execution_count": 8,
   "metadata": {
    "collapsed": false
   },
   "outputs": [
    {
     "data": {
      "text/html": [
       "<table>\n",
       "<thead><tr><th scope=col>time</th><th scope=col>status</th></tr></thead>\n",
       "<tbody>\n",
       "\t<tr><td>  7</td><td>1  </td></tr>\n",
       "\t<tr><td> 18</td><td>1  </td></tr>\n",
       "\t<tr><td> 24</td><td>0  </td></tr>\n",
       "\t<tr><td> 26</td><td>1  </td></tr>\n",
       "\t<tr><td> 27</td><td>0  </td></tr>\n",
       "\t<tr><td> 33</td><td>0  </td></tr>\n",
       "\t<tr><td> 35</td><td>0  </td></tr>\n",
       "\t<tr><td> 35</td><td>0  </td></tr>\n",
       "\t<tr><td> 36</td><td>0  </td></tr>\n",
       "\t<tr><td> 38</td><td>1  </td></tr>\n",
       "\t<tr><td> 39</td><td>1  </td></tr>\n",
       "\t<tr><td> 39</td><td>0  </td></tr>\n",
       "\t<tr><td> 42</td><td>0  </td></tr>\n",
       "\t<tr><td> 45</td><td>0  </td></tr>\n",
       "\t<tr><td> 46</td><td>0  </td></tr>\n",
       "\t<tr><td> 51</td><td>0  </td></tr>\n",
       "\t<tr><td> 52</td><td>0  </td></tr>\n",
       "\t<tr><td> 53</td><td>0  </td></tr>\n",
       "\t<tr><td> 57</td><td>0  </td></tr>\n",
       "\t<tr><td> 60</td><td>0  </td></tr>\n",
       "\t<tr><td> 62</td><td>0  </td></tr>\n",
       "\t<tr><td> 66</td><td>0  </td></tr>\n",
       "\t<tr><td> 68</td><td>0  </td></tr>\n",
       "\t<tr><td> 70</td><td>0  </td></tr>\n",
       "\t<tr><td> 72</td><td>0  </td></tr>\n",
       "\t<tr><td> 74</td><td>0  </td></tr>\n",
       "\t<tr><td> 87</td><td>0  </td></tr>\n",
       "\t<tr><td> 87</td><td>0  </td></tr>\n",
       "\t<tr><td> 92</td><td>1  </td></tr>\n",
       "\t<tr><td>102</td><td>1  </td></tr>\n",
       "</tbody>\n",
       "</table>\n"
      ],
      "text/latex": [
       "\\begin{tabular}{r|ll}\n",
       " time & status\\\\\n",
       "\\hline\n",
       "\t   7 & 1  \\\\\n",
       "\t  18 & 1  \\\\\n",
       "\t  24 & 0  \\\\\n",
       "\t  26 & 1  \\\\\n",
       "\t  27 & 0  \\\\\n",
       "\t  33 & 0  \\\\\n",
       "\t  35 & 0  \\\\\n",
       "\t  35 & 0  \\\\\n",
       "\t  36 & 0  \\\\\n",
       "\t  38 & 1  \\\\\n",
       "\t  39 & 1  \\\\\n",
       "\t  39 & 0  \\\\\n",
       "\t  42 & 0  \\\\\n",
       "\t  45 & 0  \\\\\n",
       "\t  46 & 0  \\\\\n",
       "\t  51 & 0  \\\\\n",
       "\t  52 & 0  \\\\\n",
       "\t  53 & 0  \\\\\n",
       "\t  57 & 0  \\\\\n",
       "\t  60 & 0  \\\\\n",
       "\t  62 & 0  \\\\\n",
       "\t  66 & 0  \\\\\n",
       "\t  68 & 0  \\\\\n",
       "\t  70 & 0  \\\\\n",
       "\t  72 & 0  \\\\\n",
       "\t  74 & 0  \\\\\n",
       "\t  87 & 0  \\\\\n",
       "\t  87 & 0  \\\\\n",
       "\t  92 & 1  \\\\\n",
       "\t 102 & 1  \\\\\n",
       "\\end{tabular}\n"
      ],
      "text/plain": [
       "   time status\n",
       "1    7  1     \n",
       "2   18  1     \n",
       "3   24  0     \n",
       "4   26  1     \n",
       "5   27  0     \n",
       "6   33  0     \n",
       "7   35  0     \n",
       "8   35  0     \n",
       "9   36  0     \n",
       "10  38  1     \n",
       "11  39  1     \n",
       "12  39  0     \n",
       "13  42  0     \n",
       "14  45  0     \n",
       "15  46  0     \n",
       "16  51  0     \n",
       "17  52  0     \n",
       "18  53  0     \n",
       "19  57  0     \n",
       "20  60  0     \n",
       "21  62  0     \n",
       "22  66  0     \n",
       "23  68  0     \n",
       "24  70  0     \n",
       "25  72  0     \n",
       "26  74  0     \n",
       "27  87  0     \n",
       "28  87  0     \n",
       "29  92  1     \n",
       "30 102  1     "
      ]
     },
     "metadata": {},
     "output_type": "display_data"
    }
   ],
   "source": [
    "# have a look at data of low-level group (blue line)\n",
    "\n",
    "df.low <- df[df$group == 'Low', c('time', 'status')]\n",
    "rownames(df.low) <- 1:nrow(df.low)\n",
    "\n",
    "# 30 patients\n",
    "# nrow(df.low)\n",
    "\n",
    "df.low"
   ]
  },
  {
   "cell_type": "code",
   "execution_count": 9,
   "metadata": {
    "collapsed": false,
    "scrolled": false
   },
   "outputs": [
    {
     "data": {
      "text/html": [
       "<table>\n",
       "<thead><tr><th scope=col>time</th><th scope=col>n_at_risk</th><th scope=col>n_death</th><th scope=col>p</th><th scope=col>s</th></tr></thead>\n",
       "<tbody>\n",
       "\t<tr><td>  0      </td><td>30       </td><td>0        </td><td>1.0000000</td><td>1.0000000</td></tr>\n",
       "\t<tr><td>  7      </td><td>30       </td><td>1        </td><td>0.9666667</td><td>0.9666667</td></tr>\n",
       "\t<tr><td> 18      </td><td>29       </td><td>1        </td><td>0.9655172</td><td>0.9333333</td></tr>\n",
       "\t<tr><td> 26      </td><td>27       </td><td>1        </td><td>0.9629630</td><td>0.8987654</td></tr>\n",
       "\t<tr><td> 38      </td><td>21       </td><td>1        </td><td>0.9523810</td><td>0.8559671</td></tr>\n",
       "\t<tr><td> 39      </td><td>20       </td><td>1        </td><td>0.9500000</td><td>0.8131687</td></tr>\n",
       "\t<tr><td> 92      </td><td> 2       </td><td>1        </td><td>0.5000000</td><td>0.4065844</td></tr>\n",
       "\t<tr><td>102      </td><td> 1       </td><td>1        </td><td>0.0000000</td><td>0.0000000</td></tr>\n",
       "</tbody>\n",
       "</table>\n"
      ],
      "text/latex": [
       "\\begin{tabular}{r|lllll}\n",
       " time & n\\_at\\_risk & n\\_death & p & s\\\\\n",
       "\\hline\n",
       "\t   0       & 30        & 0         & 1.0000000 & 1.0000000\\\\\n",
       "\t   7       & 30        & 1         & 0.9666667 & 0.9666667\\\\\n",
       "\t  18       & 29        & 1         & 0.9655172 & 0.9333333\\\\\n",
       "\t  26       & 27        & 1         & 0.9629630 & 0.8987654\\\\\n",
       "\t  38       & 21        & 1         & 0.9523810 & 0.8559671\\\\\n",
       "\t  39       & 20        & 1         & 0.9500000 & 0.8131687\\\\\n",
       "\t  92       &  2        & 1         & 0.5000000 & 0.4065844\\\\\n",
       "\t 102       &  1        & 1         & 0.0000000 & 0.0000000\\\\\n",
       "\\end{tabular}\n"
      ],
      "text/plain": [
       "  time n_at_risk n_death p         s        \n",
       "1   0  30        0       1.0000000 1.0000000\n",
       "2   7  30        1       0.9666667 0.9666667\n",
       "3  18  29        1       0.9655172 0.9333333\n",
       "4  26  27        1       0.9629630 0.8987654\n",
       "5  38  21        1       0.9523810 0.8559671\n",
       "6  39  20        1       0.9500000 0.8131687\n",
       "7  92   2        1       0.5000000 0.4065844\n",
       "8 102   1        1       0.0000000 0.0000000"
      ]
     },
     "metadata": {},
     "output_type": "display_data"
    }
   ],
   "source": [
    "# calculate Kaplan-Meier estimates\n",
    "\n",
    "# count censored and dead patients for each time\n",
    "df.low <- ddply(df.low, .(time), summarize,\n",
    "                n_death = sum(status == 1),\n",
    "                n_censored = sum(status == 0))\n",
    "\n",
    "# t = 0\n",
    "df.low <- rbind(c(0, 0, 0), df.low)\n",
    "\n",
    "# calculate number at risk\n",
    "df.low$n_at_risk <- rev(cumsum(rev(df.low$n_death + df.low$n_censored)))\n",
    "\n",
    "# hide censored data\n",
    "df.low <- subset(df.low, n_death > 0 | time == 0)\n",
    "df.low$n_censored <- NULL\n",
    "rownames(df.low) <- NULL\n",
    "\n",
    "# conditional probability at time t\n",
    "# p = 1 - n_death / n_at_risk\n",
    "df.low$p <- 1 - df.low$n_death / df.low$n_at_risk\n",
    "\n",
    "# probability of surviving\n",
    "# s(n) = s(n-1) * p(n)\n",
    "df.low$s <- cumprod(df.low$p)\n",
    "\n",
    "# reorder the columns\n",
    "df.low <- df.low[, c('time', 'n_at_risk', 'n_death', 'p', 's')]\n",
    "\n",
    "df.low"
   ]
  }
 ],
 "metadata": {
  "kernelspec": {
   "display_name": "R 3.2",
   "language": "R",
   "name": "ir32"
  },
  "language_info": {
   "codemirror_mode": "r",
   "file_extension": ".r",
   "mimetype": "text/x-r-source",
   "name": "R",
   "pygments_lexer": "r",
   "version": "3.2.2"
  }
 },
 "nbformat": 4,
 "nbformat_minor": 0
}
